{
 "cells": [
  {
   "cell_type": "markdown",
   "metadata": {},
   "source": [
    "# About\n",
    "\n",
    "Notes following [Sentdex's Neural Networks from Scratch in Python video series](https://www.youtube.com/watch?v=Wo5dMEP_BbI&list=PLQVvvaa0QuDcjD5BAw2DxE6OF2tius3V3) in an attempt to properly learn/reinforce the basics of ML and neural net structure."
   ]
  },
  {
   "cell_type": "markdown",
   "metadata": {},
   "source": [
    "# Conceptual Intro"
   ]
  },
  {
   "cell_type": "markdown",
   "metadata": {},
   "source": [
    "## A Singular Neuron (Node)\n",
    "[Video](https://www.youtube.com/watch?v=Wo5dMEP_BbI)\n",
    "\n",
    "This is a simple demonstration of a neuron.\n",
    "\n",
    "### Context\n",
    "A neural network is made up of many layers, each of which is made up of neurons.\n",
    "\n",
    "### Neuron Components\n",
    "- 3 Inputs (From previous layer of neurons)\n",
    "- 3 Weights (From synapses connecting to prevoius layers; modifies inputs)\n",
    "- Bias (A singular value added to the neuron's output)"
   ]
  },
  {
   "cell_type": "code",
   "execution_count": 8,
   "metadata": {},
   "outputs": [
    {
     "name": "stdout",
     "output_type": "stream",
     "text": [
      "42.839999999999996\n"
     ]
    }
   ],
   "source": [
    "inputs = [4.4, 3.2, 2.8]\n",
    "weights = [5.8, 2.7, 3.1]\n",
    "bias = 2\n",
    "output = inputs[0]*weights[0] + inputs[1]*weights[1] + inputs[2]*weights[2]\n",
    "print(output)"
   ]
  },
  {
   "cell_type": "markdown",
   "metadata": {},
   "source": [
    "## A Layer of Neurons\n",
    "[Video](https://www.youtube.com/watch?v=lGLto9Xd7bU)\n",
    "\n",
    "This is a rudimentary demonstration of an output layer. \n",
    "\n",
    "### Components\n",
    "- 3 neurons, each of which has 4 inputs and 1 output.\n",
    "\n",
    "### More Info\n",
    "- The inputs are  the same for all 3 nodes, as each node would theoretically take inputs from all nodes of the previous layer.\n",
    "- Since this is a layer of 3 neurons, the output consists of 3 numbers."
   ]
  },
  {
   "cell_type": "code",
   "execution_count": 8,
   "metadata": {},
   "outputs": [
    {
     "name": "stdout",
     "output_type": "stream",
     "text": [
      "[48.89999999999999, 43.86, -6.799999999999999]\n"
     ]
    }
   ],
   "source": [
    "inputs = [4.4, 3.2, -2.8, 5.1]\n",
    "\n",
    "node1_weights = [5.8, 2.7, 3.1, 4.2]\n",
    "node1_bias = 2\n",
    "\n",
    "node2_weights = [-0.3, 2.3, -3.0, 4.2]\n",
    "node2_bias = 8\n",
    "\n",
    "node3_weights = [0.1, 6.1, 4.8, -3.2]\n",
    "node3_bias = 3\n",
    "\n",
    "layer_outputs = [\n",
    "    inputs[0]*node1_weights[0] + inputs[1]*node1_weights[1] + inputs[2]*node1_weights[2] + inputs[3]*node1_weights[3] + node1_bias,\n",
    "    inputs[0]*node2_weights[0] + inputs[1]*node2_weights[1] + inputs[2]*node2_weights[2] + inputs[3]*node2_weights[3] + node2_bias,\n",
    "    inputs[0]*node3_weights[0] + inputs[1]*node3_weights[1] + inputs[2]*node3_weights[2] + inputs[3]*node3_weights[3] + node3_bias\n",
    "]\n",
    "print(layer_outputs)"
   ]
  },
  {
   "cell_type": "markdown",
   "metadata": {},
   "source": [
    "Reimplement the layer code above by grouping weights/biases into arrays and calculating output by interating through them:"
   ]
  },
  {
   "cell_type": "code",
   "execution_count": 17,
   "metadata": {},
   "outputs": [
    {
     "name": "stdout",
     "output_type": "stream",
     "text": [
      "[48.89999999999999, 43.86, -6.799999999999999]\n"
     ]
    }
   ],
   "source": [
    "inputs = [4.4, 3.2, -2.8, 5.1]\n",
    "\n",
    "layer_weights = [[5.8, 2.7, 3.1, 4.2],\n",
    "                 [-0.3, 2.3, -3.0, 4.2], \n",
    "                 [0.1, 6.1, 4.8, -3.2]]\n",
    "\n",
    "biases = [2, 8, 3]\n",
    "\n",
    "layer_outputs = []\n",
    "\n",
    "# combine/zip weights & biases into a single list of tuples, which we read from\n",
    "for neuron_weights, neuron_bias in zip(layer_weights, biases):\n",
    "    neuron_output = 0\n",
    "    for neuron_input, neuron_weight in zip(inputs, neuron_weights):\n",
    "        neuron_output += neuron_input*neuron_weight\n",
    "    neuron_output += neuron_bias\n",
    "    layer_outputs.append(neuron_output)\n",
    "    \n",
    "print(layer_outputs)"
   ]
  },
  {
   "cell_type": "markdown",
   "metadata": {},
   "source": [
    "# Math Intro\n",
    "[Video](https://www.youtube.com/watch?v=TEWy9vZcxW4)"
   ]
  },
  {
   "cell_type": "markdown",
   "metadata": {},
   "source": [
    "### DEFINITION: Shape \n",
    "The size of the array in each dimension.\n",
    "\n",
    "| Array                          | Shape    | Type             |\n",
    "|:-------------------------------|:---------|:-----------------|\n",
    "| `[1, 2, 3, 4]`                 | `(4)`    | 1D Array, Vector |\n",
    "| `[[1, 2, 3, 4], [2, 5, 3, 1]]` | `(4, 2)` | 2D Array, Matrix |"
   ]
  },
  {
   "cell_type": "markdown",
   "metadata": {},
   "source": [
    "Use vector dot products to further simply the process from the Neuron demonstration:"
   ]
  },
  {
   "cell_type": "code",
   "execution_count": 28,
   "metadata": {},
   "outputs": [
    {
     "name": "stdout",
     "output_type": "stream",
     "text": [
      "7.2\n"
     ]
    }
   ],
   "source": [
    "import numpy as np\n",
    "\n",
    "inputs = [1, 3, 5, 2]\n",
    "weights = [0.2, 0.8, 0.6, -0.1]\n",
    "bias = 1.8\n",
    "\n",
    "# Dot product order doesn't matter since inputs & weight are the same size\n",
    "output = np.dot(inputs, weights) + bias\n",
    "\n",
    "print(output)"
   ]
  },
  {
   "cell_type": "markdown",
   "metadata": {},
   "source": [
    "Use vector dot products to further simply the process from the Layers demonstration:"
   ]
  },
  {
   "cell_type": "code",
   "execution_count": 27,
   "metadata": {},
   "outputs": [
    {
     "name": "stdout",
     "output_type": "stream",
     "text": [
      "[39.8  8.  39. ]\n"
     ]
    }
   ],
   "source": [
    "import numpy as np\n",
    "\n",
    "inputs = [1, 3, 5, 2]\n",
    "layer_weights = [[5.8, 2.7, 3.1, 4.2],\n",
    "                 [-0.3, 2.3, -3.0, 4.2], \n",
    "                 [0.1, 6.1, 4.8, -3.2]]\n",
    "biases = [2, 8, 3]\n",
    "\n",
    "# Dot product order of layer weights & inputs matters because the two have difference dimensions!\n",
    "# In a typical machine learning library, incorrect order would result in a shape error.\n",
    "output = np.dot(layer_weights, inputs) + biases\n",
    "\n",
    "print(output)"
   ]
  },
  {
   "cell_type": "markdown",
   "metadata": {},
   "source": [
    "# Batches/Layers/Objects\n",
    "[Video](https://www.youtube.com/watch?v=TEWy9vZcxW4)\n",
    "\n",
    "### DEFINITION: Batch\n",
    "A batch is a collection of inputs (samples). Batching data allows us to show the network multiple samples at a time, allowing it to generalize more effectively."
   ]
  },
  {
   "cell_type": "code",
   "execution_count": null,
   "metadata": {},
   "outputs": [],
   "source": []
  }
 ],
 "metadata": {
  "kernelspec": {
   "display_name": "Python 3",
   "language": "python",
   "name": "python3"
  },
  "language_info": {
   "codemirror_mode": {
    "name": "ipython",
    "version": 3
   },
   "file_extension": ".py",
   "mimetype": "text/x-python",
   "name": "python",
   "nbconvert_exporter": "python",
   "pygments_lexer": "ipython3",
   "version": "3.8.3"
  }
 },
 "nbformat": 4,
 "nbformat_minor": 4
}
